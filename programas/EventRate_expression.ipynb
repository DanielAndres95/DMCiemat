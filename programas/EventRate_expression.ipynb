{
 "cells": [
  {
   "cell_type": "code",
   "execution_count": 54,
   "metadata": {},
   "outputs": [],
   "source": [
    "import sympy as sp\n",
    "import math as mth\n",
    "import numpy as np\n",
    "import matplotlib.pyplot as plt"
   ]
  },
  {
   "cell_type": "code",
   "execution_count": 2,
   "metadata": {},
   "outputs": [],
   "source": [
    "x = sp.Symbol('x')\n",
    "vo = sp.Symbol('v_o', positive=True)"
   ]
  },
  {
   "cell_type": "code",
   "execution_count": 33,
   "metadata": {},
   "outputs": [
    {
     "data": {
      "text/latex": [
       "$\\displaystyle \\rho_\\chi$"
      ],
      "text/plain": [
       "\\rho_\\chi"
      ]
     },
     "execution_count": 33,
     "metadata": {},
     "output_type": "execute_result"
    }
   ],
   "source": [
    "No, A, d, m, sigma, v, theta, phi, dn, k, A, Er = sp.symbols('N_o A \\\\rho_\\chi m_\\chi \\sigma_{0N} v \\\\theta \\\\phi dn k A E_R')\n",
    "d"
   ]
  },
  {
   "cell_type": "code",
   "execution_count": 4,
   "metadata": {},
   "outputs": [
    {
     "data": {
      "text/latex": [
       "$\\displaystyle \\frac{\\rho_\\chi v^{2}}{k m_\\chi}$"
      ],
      "text/plain": [
       "\\rho_\\chi*v**2/(k*m_\\chi)"
      ]
     },
     "execution_count": 4,
     "metadata": {},
     "output_type": "execute_result"
    }
   ],
   "source": [
    "dn = d/(m*k) * v**2 \n",
    "dn"
   ]
  },
  {
   "cell_type": "code",
   "execution_count": 5,
   "metadata": {},
   "outputs": [
    {
     "data": {
      "text/latex": [
       "$\\displaystyle \\pi^{\\frac{3}{2}} v_{o}^{3}$"
      ],
      "text/plain": [
       "pi**(3/2)*v_o**3"
      ]
     },
     "execution_count": 5,
     "metadata": {},
     "output_type": "execute_result"
    }
   ],
   "source": [
    "integrand = v**2 * sp.sin(theta) * sp.exp(-(v/vo)**2)\n",
    "ko = sp.integrate(integrand, (theta, 0, sp.pi), (phi, 0, 2*sp.pi), (v, 0, sp.oo))\n",
    "ko"
   ]
  },
  {
   "cell_type": "code",
   "execution_count": 6,
   "metadata": {},
   "outputs": [
    {
     "data": {
      "text/latex": [
       "$\\displaystyle \\frac{\\rho_\\chi v^{2}}{\\pi^{\\frac{3}{2}} m_\\chi v_{o}^{3}}$"
      ],
      "text/plain": [
       "\\rho_\\chi*v**2/(pi**(3/2)*m_\\chi*v_o**3)"
      ]
     },
     "execution_count": 6,
     "metadata": {},
     "output_type": "execute_result"
    }
   ],
   "source": [
    "dn2 = dn.subs(k, ko)\n",
    "dn2"
   ]
  },
  {
   "cell_type": "code",
   "execution_count": 7,
   "metadata": {},
   "outputs": [
    {
     "data": {
      "text/latex": [
       "$\\displaystyle \\frac{N_{o} \\rho_\\chi \\sigma_{0N} v^{3}}{\\pi^{\\frac{3}{2}} A m_\\chi v_{o}^{3}}$"
      ],
      "text/plain": [
       "N_o*\\rho_\\chi*\\sigma_{0N}*v**3/(pi**(3/2)*A*m_\\chi*v_o**3)"
      ]
     },
     "execution_count": 7,
     "metadata": {},
     "output_type": "execute_result"
    }
   ],
   "source": [
    "dR = No/A*sigma*v*dn2\n",
    "dR"
   ]
  },
  {
   "cell_type": "code",
   "execution_count": 8,
   "metadata": {},
   "outputs": [],
   "source": [
    "Ro = sp.integrate(dR * sp.sin(theta) * sp.exp(-(v/vo)**2), (theta, 0, sp.pi), (phi, 0, 2*sp.pi), (v, 0, sp.oo))"
   ]
  },
  {
   "cell_type": "code",
   "execution_count": 9,
   "metadata": {},
   "outputs": [
    {
     "data": {
      "text/latex": [
       "$\\displaystyle \\frac{2 N_{o} \\rho_\\chi \\sigma_{0N} v_{o}}{\\sqrt{\\pi} A m_\\chi}$"
      ],
      "text/plain": [
       "2*N_o*\\rho_\\chi*\\sigma_{0N}*v_o/(sqrt(pi)*A*m_\\chi)"
      ]
     },
     "execution_count": 9,
     "metadata": {},
     "output_type": "execute_result"
    }
   ],
   "source": [
    "Ro"
   ]
  }
 ],
 "metadata": {
  "kernelspec": {
   "display_name": "Python 3",
   "language": "python",
   "name": "python3"
  },
  "language_info": {
   "codemirror_mode": {
    "name": "ipython",
    "version": 3
   },
   "file_extension": ".py",
   "mimetype": "text/x-python",
   "name": "python",
   "nbconvert_exporter": "python",
   "pygments_lexer": "ipython3",
   "version": "3.6.8"
  }
 },
 "nbformat": 4,
 "nbformat_minor": 2
}
