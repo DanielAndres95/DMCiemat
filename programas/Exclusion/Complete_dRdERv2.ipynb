{
 "cells": [
  {
   "cell_type": "code",
   "execution_count": 1,
   "metadata": {},
   "outputs": [],
   "source": [
    "import numpy as np\n",
    "from math import pi, sqrt\n",
    "from scipy.special import erf\n",
    "import matplotlib.pyplot as plt"
   ]
  },
  {
   "cell_type": "code",
   "execution_count": 2,
   "metadata": {},
   "outputs": [],
   "source": [
    "plt.rc('text',usetex=True)\n",
    "plt.rc('font',family='serif')"
   ]
  },
  {
   "cell_type": "code",
   "execution_count": 34,
   "metadata": {},
   "outputs": [],
   "source": [
    "## Constants ##\n",
    "# Paticle:\n",
    "mx = 100                            # GeV\n",
    "vo = 230e5 * 3600 * 24              # cm/day\n",
    "beta = vo / (3e5 * 1e5 * 3600 * 24) # units of c\n",
    "# Nucleus:\n",
    "A = 40\n",
    "M = 931.5e-3 * A                    # GeV\n",
    "# Kinematics:\n",
    "theta = np.linspace(0, pi, num=500) # rad\n",
    "vesc = 600e5 * 3600 * 24            # cm/day\n",
    "# Form Factor:\n",
    "s = 0.9                             # fm\n",
    "c = 1.23*A**(1/3) - 0.6             # fm\n",
    "a = 0.52                            # fm\n",
    "hc = 197.3e-3                       # GeV fm\n",
    "# Event rate for vE = 0:\n",
    "No = 6.022e26 / A                   # 1/kg\n",
    "rho = 0.3                           # GeV/cm3\n",
    "sigma = 1e-45                       # cm2"
   ]
  },
  {
   "cell_type": "code",
   "execution_count": 19,
   "metadata": {},
   "outputs": [],
   "source": [
    "def kinematics(mx, M):\n",
    "    mr = (mx * M) / (mx + M)       # GeV\n",
    "    mrn = (mx * M/A) / (mx + M/A)  # GeV\n",
    "    r = 4*mr**2 / (mx*M)\n",
    "    Eo = 0.5 * mx * beta**2        # GeV\n",
    "    ER = 0.5 * Eo * r * (1 - np.cos(theta))\n",
    "    q = np.sqrt(2 * M * ER)        # GeV\n",
    "    output = {'mr': mr,\n",
    "             'mrn': mrn,\n",
    "              'r': r,\n",
    "              'Eo': Eo,\n",
    "             'q': q,\n",
    "             'ER': ER}\n",
    "    return output"
   ]
  },
  {
   "cell_type": "code",
   "execution_count": 35,
   "metadata": {},
   "outputs": [],
   "source": [
    "def form_factor(dic_kinematics):\n",
    "    q = dic_kinematics['q']\n",
    "    rn = np.sqrt(c**2 + 7/3 * pi**2 * a**2 - 5*s**2) #fm\n",
    "    arg_norm = q*rn/hc\n",
    "    j1 = (np.sin(arg_norm) - arg_norm * np.cos(arg_norm)) / arg_norm**2\n",
    "    FF = 3 * j1 * np.exp(-0.5*(q*s/hc)**2) /arg_norm\n",
    "    return FF"
   ]
  },
  {
   "cell_type": "code",
   "execution_count": 21,
   "metadata": {},
   "outputs": [],
   "source": [
    "def compute_Ro(dic_kinematics):\n",
    "    mr = dic_kinematics['mr']\n",
    "    mrn = dic_kinematics['mrn']\n",
    "    Ro = 2/sqrt(pi) * No*rho/mx * (mr/mrn)**2 * A * sigma * vo # events /kgday\n",
    "    return Ro"
   ]
  },
  {
   "cell_type": "code",
   "execution_count": 22,
   "metadata": {},
   "outputs": [],
   "source": [
    "def factors_of_dR(dic_kinematics):\n",
    "    r = dic_kinematics['r']\n",
    "    Eo = dic_kinematics['Eo']\n",
    "    ER = dic_kinematics['ER']\n",
    "    t = np.linspace(0, 365, num=366)\n",
    "    vmin = np.sqrt(ER / (Eo*r)) * vo                                              # cm/day\n",
    "    vE = np.max(232 + 15*np.cos( (t - 152.5)/365.25 )) * 1e5 * 3600 * 24          # cm/day\n",
    "    k0_k1 = ( erf(vesc/vo) - 2/sqrt(pi)*vesc/vo * np.exp(-(vesc/vo)**2) )**(-1)\n",
    "    output = {'vmin': vmin,\n",
    "             'vE': vE,\n",
    "             'k0_k1': k0_k1}\n",
    "    return output"
   ]
  },
  {
   "cell_type": "code",
   "execution_count": 42,
   "metadata": {},
   "outputs": [],
   "source": [
    "def compute_dRdER(dic_kinematics, FF, Ro, factors_of_dR):\n",
    "    r = dic_kinematics['r']\n",
    "    Eo = dic_kinematics['Eo']\n",
    "    vmin = factors_of_dR['vmin']\n",
    "    vE = factors_of_dR['vE']\n",
    "    k0_k1 = factors_of_dR['k0_k1']\n",
    "    output = k0_k1 * Ro/(Eo*r) * ( sqrt(pi)*vo/(4*vE)*( erf((vmin+vE)/vo) - erf((vmin-vE)/vo) ) - \n",
    "                                  np.exp(-(vesc/vo)**2) ) * FF**2 * 1e-6 # events/keVkgday\n",
    "    return output"
   ]
  },
  {
   "cell_type": "code",
   "execution_count": 43,
   "metadata": {},
   "outputs": [],
   "source": [
    "def Differential_Recoil_Spectrum(mx, M):\n",
    "    dic_kinematics = kinematics(mx, M)\n",
    "    FF = form_factor(dic_kinematics)\n",
    "    Ro = compute_Ro(dic_kinematics)\n",
    "    dR_factors = factors_of_dR(dic_kinematics)\n",
    "    dRdER = compute_dRdER(dic_kinematics, FF, Ro, dR_factors)\n",
    "    return dRdER, dic_kinematics['ER']"
   ]
  },
  {
   "cell_type": "code",
   "execution_count": 44,
   "metadata": {},
   "outputs": [
    {
     "name": "stderr",
     "output_type": "stream",
     "text": [
      "/usr/local/lib/python3.6/site-packages/ipykernel_launcher.py:5: RuntimeWarning: invalid value encountered in true_divide\n",
      "  \"\"\"\n"
     ]
    }
   ],
   "source": [
    "dRdER, ER = Differential_Recoil_Spectrum(mx, M)"
   ]
  },
  {
   "cell_type": "code",
   "execution_count": 45,
   "metadata": {},
   "outputs": [
    {
     "data": {
      "image/png": "[encoded data removed]",
      "text/plain": [
       "<Figure size 576x432 with 1 Axes>"
      ]
     },
     "metadata": {
      "needs_background": "light"
     },
     "output_type": "display_data"
    }
   ],
   "source": [
    "fig, ax = plt.subplots(nrows=1, ncols=1, figsize=(8, 6))\n",
    "plt.plot(ER*1e6, dRdER, 'purple', lw=2)\n",
    "plt.xlabel('$E_R\\ (keV)$', fontsize=16)\n",
    "plt.ylabel('$Events / keV / kg / day$', fontsize=16)\n",
    "#plt.xlim([0, 30])\n",
    "plt.yscale('log')\n",
    "plt.grid(alpha=.3)\n",
    "plt.show()"
   ]
  },
  {
   "cell_type": "code",
   "execution_count": null,
   "metadata": {},
   "outputs": [],
   "source": []
  }
 ],
 "metadata": {
  "kernelspec": {
   "display_name": "Python 3",
   "language": "python",
   "name": "python3"
  },
  "language_info": {
   "codemirror_mode": {
    "name": "ipython",
    "version": 3
   },
   "file_extension": ".py",
   "mimetype": "text/x-python",
   "name": "python",
   "nbconvert_exporter": "python",
   "pygments_lexer": "ipython3",
   "version": "3.6.8"
  }
 },
 "nbformat": 4,
 "nbformat_minor": 2
}
